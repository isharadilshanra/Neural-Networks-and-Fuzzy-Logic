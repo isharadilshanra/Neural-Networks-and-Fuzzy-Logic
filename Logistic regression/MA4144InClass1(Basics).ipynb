{
 "cells": [
  {
   "cell_type": "markdown",
   "id": "ea4b7cc4-4743-4555-ba9d-31856132f962",
   "metadata": {
    "deletable": false,
    "editable": false,
    "slideshow": {
     "slide_type": ""
    },
    "tags": []
   },
   "source": [
    "# <center>ML Basics </center>\n",
    "## <center>Inclass Project 1 - MA4144</center>\n",
    "\n",
    "This project contains 12 tasks/questions to be completed.\n",
    "\n",
    "After finishing project run the entire notebook once and **save the notebook as a pdf** (File menu -> Save and Export Notebook As -> PDF). You are **required to upload this PDF on moodle**."
   ]
  },
  {
   "cell_type": "markdown",
   "id": "fc927cf7-fbea-4684-b942-8a9405400822",
   "metadata": {
    "deletable": false,
    "editable": false
   },
   "source": [
    "Use this cell to use any include any imports"
   ]
  },
  {
   "cell_type": "code",
   "execution_count": 1,
   "id": "61792cd0-155b-436c-8ebe-82933548d92d",
   "metadata": {},
   "outputs": [],
   "source": [
    "import pandas as pd\n",
    "import numpy as np\n",
    "import seaborn as sns\n",
    "import matplotlib.pyplot as plt"
   ]
  },
  {
   "cell_type": "markdown",
   "id": "a3c3f445-ab74-4697-86b9-8ffec429d923",
   "metadata": {
    "deletable": false,
    "editable": false
   },
   "source": [
    "## Section 1\n",
    "\n",
    "In this section we will analyse a dataset to look into its statistical propeties. For this we will use the DiabetesTrain.csv dataset. Each row corresponds to a single patient. The first 8 columns correspond to the features of the patients that may help predict risk of diabetes. The outcome column is a binary column represting the risk of diabetes, outcome 1 : high risk of diabetes and outcome 0 little to no risk of diabetes."
   ]
  },
  {
   "cell_type": "markdown",
   "id": "4a950e4d-c397-47a9-b041-46ba72d5d95c",
   "metadata": {
    "deletable": false,
    "editable": false
   },
   "source": [
    "**Q1.** Read the dataset into a pandas dataframe called diabetesData. "
   ]
  },
  {
   "cell_type": "code",
   "execution_count": 2,
   "id": "31a4ad00-0298-4de0-b952-de1ac4990e7d",
   "metadata": {
    "scrolled": true
   },
   "outputs": [
    {
     "data": {
      "text/html": [
       "<div>\n",
       "<style scoped>\n",
       "    .dataframe tbody tr th:only-of-type {\n",
       "        vertical-align: middle;\n",
       "    }\n",
       "\n",
       "    .dataframe tbody tr th {\n",
       "        vertical-align: top;\n",
       "    }\n",
       "\n",
       "    .dataframe thead th {\n",
       "        text-align: right;\n",
       "    }\n",
       "</style>\n",
       "<table border=\"1\" class=\"dataframe\">\n",
       "  <thead>\n",
       "    <tr style=\"text-align: right;\">\n",
       "      <th></th>\n",
       "      <th>Pregnancies</th>\n",
       "      <th>Glucose</th>\n",
       "      <th>BloodPressure</th>\n",
       "      <th>SkinThickness</th>\n",
       "      <th>Insulin</th>\n",
       "      <th>BMI</th>\n",
       "      <th>DiabetesPedigreeFunction</th>\n",
       "      <th>Age</th>\n",
       "      <th>Outcome</th>\n",
       "    </tr>\n",
       "  </thead>\n",
       "  <tbody>\n",
       "    <tr>\n",
       "      <th>0</th>\n",
       "      <td>1</td>\n",
       "      <td>95</td>\n",
       "      <td>74</td>\n",
       "      <td>21</td>\n",
       "      <td>73</td>\n",
       "      <td>25.9</td>\n",
       "      <td>0.673</td>\n",
       "      <td>36</td>\n",
       "      <td>0</td>\n",
       "    </tr>\n",
       "    <tr>\n",
       "      <th>1</th>\n",
       "      <td>1</td>\n",
       "      <td>95</td>\n",
       "      <td>82</td>\n",
       "      <td>25</td>\n",
       "      <td>180</td>\n",
       "      <td>35.0</td>\n",
       "      <td>0.233</td>\n",
       "      <td>43</td>\n",
       "      <td>1</td>\n",
       "    </tr>\n",
       "    <tr>\n",
       "      <th>2</th>\n",
       "      <td>1</td>\n",
       "      <td>90</td>\n",
       "      <td>68</td>\n",
       "      <td>8</td>\n",
       "      <td>0</td>\n",
       "      <td>24.5</td>\n",
       "      <td>1.138</td>\n",
       "      <td>36</td>\n",
       "      <td>0</td>\n",
       "    </tr>\n",
       "    <tr>\n",
       "      <th>3</th>\n",
       "      <td>7</td>\n",
       "      <td>195</td>\n",
       "      <td>70</td>\n",
       "      <td>33</td>\n",
       "      <td>145</td>\n",
       "      <td>25.1</td>\n",
       "      <td>0.163</td>\n",
       "      <td>55</td>\n",
       "      <td>1</td>\n",
       "    </tr>\n",
       "    <tr>\n",
       "      <th>4</th>\n",
       "      <td>0</td>\n",
       "      <td>180</td>\n",
       "      <td>66</td>\n",
       "      <td>39</td>\n",
       "      <td>0</td>\n",
       "      <td>42.0</td>\n",
       "      <td>1.893</td>\n",
       "      <td>25</td>\n",
       "      <td>1</td>\n",
       "    </tr>\n",
       "  </tbody>\n",
       "</table>\n",
       "</div>"
      ],
      "text/plain": [
       "   Pregnancies  Glucose  BloodPressure  SkinThickness  Insulin   BMI  \\\n",
       "0            1       95             74             21       73  25.9   \n",
       "1            1       95             82             25      180  35.0   \n",
       "2            1       90             68              8        0  24.5   \n",
       "3            7      195             70             33      145  25.1   \n",
       "4            0      180             66             39        0  42.0   \n",
       "\n",
       "   DiabetesPedigreeFunction  Age  Outcome  \n",
       "0                     0.673   36        0  \n",
       "1                     0.233   43        1  \n",
       "2                     1.138   36        0  \n",
       "3                     0.163   55        1  \n",
       "4                     1.893   25        1  "
      ]
     },
     "execution_count": 2,
     "metadata": {},
     "output_type": "execute_result"
    }
   ],
   "source": [
    "#read the dataset into a pandas dataframe \n",
    "\n",
    "diabetesData = pd.read_csv('DiabetesTrain.csv')\n",
    "diabetesData.head()\n",
    "\n"
   ]
  },
  {
   "cell_type": "markdown",
   "id": "da24345f-cb2b-437b-af61-9d0067fd56af",
   "metadata": {
    "deletable": false,
    "editable": false
   },
   "source": [
    "**Q2.** Let us define the following events.\n",
    "\n",
    "A = Patient has BMI less than 25\n",
    "\n",
    "B = Patient has Glucose level greater than 100\n",
    "\n",
    "C = Patient has had more than 2 pregnancies\n",
    "\n",
    "D = Patient has high risk of diabetes\n",
    "\n",
    "Based on the above definitions determine the following probabilities. Pandas dataframe inbuilt functions such as count, group by, would be useful for this task."
   ]
  },
  {
   "cell_type": "code",
   "execution_count": 3,
   "id": "63382318-9b8d-4ea3-a74c-e3ac6ebbbc5d",
   "metadata": {},
   "outputs": [
    {
     "name": "stdout",
     "output_type": "stream",
     "text": [
      "P_D_A:  0.05084745762711865\n",
      "P_D_B:  0.48299319727891155\n",
      "P_D_C:  0.46976744186046504\n"
     ]
    }
   ],
   "source": [
    "# Compute the probability of diabetes\n",
    "\n",
    "# P(A) = probability of patient having BMI less than 25\n",
    "# P(A) = number of patients with BMI less than 25 / total number of patients\n",
    "P_A = diabetesData[diabetesData['BMI'] < 25].shape[0] / diabetesData.shape[0]\n",
    "\n",
    "# P(B) = probability of patient having Glucose level greater than 100\n",
    "# P(B) = number of patients with Glucose level greater than 100 / total number of patients\n",
    "P_B = diabetesData[diabetesData['Glucose'] > 100].shape[0] / diabetesData.shape[0]\n",
    "\n",
    "\n",
    "# P(C) = Patient has had more than 2 pregnancies\n",
    "# P(C) = number of patients with pregnancies > 2 / total number of patients\n",
    "P_C = diabetesData[diabetesData['Pregnancies'] > 2].shape[0] / diabetesData.shape[0]\n",
    "\n",
    "\n",
    "# P(D) = probability of patient has high risk of diabetes\n",
    "# P(D) = number of patients with high risk of diabetes / total number of patients\n",
    "P_D = diabetesData[diabetesData['Outcome'] == 1].shape[0] / diabetesData.shape[0]\n",
    "\n",
    "\n",
    "# P(A, D) = probability of patient having BMI less than 25 and has high risk of diabetes\n",
    "# P(A, D) = number of patients with BMI less than 25 and has high risk of diabetes / total number of patients\n",
    "P_A_D = diabetesData[(diabetesData['BMI'] < 25) & (diabetesData['Outcome'] == 1)].shape[0] / diabetesData.shape[0]\n",
    "\n",
    "\n",
    "# P(B, D) = probability of patient having Glucose level greater than 100 and has high risk of diabetes\n",
    "# P(B, D) = number of patients with Glucose level greater than 100 and has high risk of diabetes / total number of patients\n",
    "P_B_D = diabetesData[(diabetesData['Glucose'] > 100) & (diabetesData['Outcome'] == 1)].shape[0] / diabetesData.shape[0]\n",
    "\n",
    "\n",
    "# P(C, D) = probability of patient having more than 2 pregnancies and has high risk of diabetes\n",
    "# P(C, D) = number of patients with more than 2 pregnancies and has high risk of diabetes / total number of patients\n",
    "P_C_D = diabetesData[(diabetesData['Pregnancies'] > 2) & (diabetesData['Outcome'] == 1)].shape[0] / diabetesData.shape[0]\n",
    "\n",
    "\n",
    "#Indicate which one out of A, B, C contributes the most towards high risk of diabetes.\n",
    "#Assign one of 'A', 'B', 'C' to the following variable Q2, indicating your answer.\n",
    "#Hint: Compute the necessary conditional probabilities and then compare.\n",
    "\n",
    "# P(D|A) = P(A, D) / P(A)\n",
    "P_D_A = P_A_D / P_A\n",
    "\n",
    "# P(D|B) = P(B, D) / P(B)\n",
    "P_D_B = P_B_D / P_B\n",
    "\n",
    "# P(D|C) = P(C, D) / P(C)\n",
    "P_D_C = P_C_D / P_C\n",
    "\n",
    "print(\"P_D_A: \" , P_D_A)\n",
    "print(\"P_D_B: \" , P_D_B)\n",
    "print(\"P_D_C: \" , P_D_C)\n",
    "\n",
    "Q2 = 'B'"
   ]
  },
  {
   "cell_type": "markdown",
   "id": "c641a2bf-7add-415a-ae07-8e8d8f55fbcc",
   "metadata": {
    "deletable": false,
    "editable": false
   },
   "source": [
    "**Q3.** Now we will compute the covariance and correlation matrices from scratch. For this do not use any inbuilt functions. Follow the steps outlined below. Each step is graded."
   ]
  },
  {
   "cell_type": "markdown",
   "id": "e29ca493-d8c1-493b-a4f4-7e8f1cddc382",
   "metadata": {
    "deletable": false,
    "editable": false
   },
   "source": [
    "**Step1:** Convert the diabetesData dataframe into a 2-dimensional numpy array with the same number of rows and columns as in the dataframe. Name it diabetesX."
   ]
  },
  {
   "cell_type": "code",
   "execution_count": 4,
   "id": "25becf06",
   "metadata": {},
   "outputs": [],
   "source": [
    "# compute the covariance and correlation matrices from scratch"
   ]
  },
  {
   "cell_type": "code",
   "execution_count": 5,
   "id": "147f70c4-d19d-4e77-b69b-170bc7da8e37",
   "metadata": {},
   "outputs": [
    {
     "name": "stdout",
     "output_type": "stream",
     "text": [
      "[[  1.     95.     74.    ...   0.673  36.      0.   ]\n",
      " [  1.     95.     82.    ...   0.233  43.      1.   ]\n",
      " [  1.     90.     68.    ...   1.138  36.      0.   ]\n",
      " ...\n",
      " [  4.    146.     78.    ...   0.52   67.      1.   ]\n",
      " [ 15.    136.     70.    ...   0.153  43.      1.   ]\n",
      " [ 10.    101.     86.    ...   1.136  38.      1.   ]]\n"
     ]
    }
   ],
   "source": [
    "# convert the dataframe in to 2D numpy array\n",
    "diabetesX = diabetesData[['Pregnancies', 'Glucose', 'BloodPressure', 'SkinThickness', 'Insulin', 'BMI', 'DiabetesPedigreeFunction', 'Age', 'Outcome']].values\n",
    "print(diabetesX)"
   ]
  },
  {
   "cell_type": "markdown",
   "id": "33652ee2-79f0-4908-9c97-7f8a22ce9c51",
   "metadata": {
    "deletable": false,
    "editable": false
   },
   "source": [
    "**Step2:** In diabetesX; center every column, by subtracting each column by the column mean and reassign it to diabetesX."
   ]
  },
  {
   "cell_type": "code",
   "execution_count": 6,
   "id": "8a106986-e334-49ea-9259-9b2f53d4f50a",
   "metadata": {},
   "outputs": [
    {
     "name": "stdout",
     "output_type": "stream",
     "text": [
      "[[-2.84711779e+00 -2.69598997e+01  5.17543860e+00 ...  1.78518797e-01\n",
      "   3.07017544e+00 -3.78446115e-01]\n",
      " [-2.84711779e+00 -2.69598997e+01  1.31754386e+01 ... -2.61481203e-01\n",
      "   1.00701754e+01  6.21553885e-01]\n",
      " [-2.84711779e+00 -3.19598997e+01 -8.24561404e-01 ...  6.43518797e-01\n",
      "   3.07017544e+00 -3.78446115e-01]\n",
      " ...\n",
      " [ 1.52882206e-01  2.40401003e+01  9.17543860e+00 ...  2.55187970e-02\n",
      "   3.40701754e+01  6.21553885e-01]\n",
      " [ 1.11528822e+01  1.40401003e+01  1.17543860e+00 ... -3.41481203e-01\n",
      "   1.00701754e+01  6.21553885e-01]\n",
      " [ 6.15288221e+00 -2.09598997e+01  1.71754386e+01 ...  6.41518797e-01\n",
      "   5.07017544e+00  6.21553885e-01]]\n",
      "(399, 9)\n"
     ]
    }
   ],
   "source": [
    "# center the data by substracting the each column by its mean and reassing the centered data to diabetesX\n",
    "# use np.mean() with appropriate axis\n",
    "diabetesX = diabetesX - np.mean(diabetesX, axis=0)\n",
    "print(diabetesX)\n",
    "print(diabetesX.shape)\n",
    "\n",
    "\n",
    "#After centering\n",
    "#diabetesX = None"
   ]
  },
  {
   "cell_type": "markdown",
   "id": "b7bd1da1-6bfd-4aac-a80a-24226faf45da",
   "metadata": {
    "deletable": false,
    "editable": false
   },
   "source": [
    "**Step3:** Compute the covariance matrix. Use, matrix operations in numpy such as matrix multiplication, matrix transpose and don't forget to average. Assign it to the variable cov."
   ]
  },
  {
   "cell_type": "code",
   "execution_count": 7,
   "id": "06799e49-de01-424a-a660-1503ac9a023a",
   "metadata": {},
   "outputs": [
    {
     "name": "stdout",
     "output_type": "stream",
     "text": [
      "[[ 1.18437950e+01  2.33096589e+01  7.77518357e+00 -1.81496976e+00\n",
      "  -1.62017764e+01  2.08686754e+00 -9.69389640e-02  2.09516774e+01\n",
      "   4.06228604e-01]\n",
      " [ 2.33096589e+01  1.04421393e+03  4.81257969e+01  1.21142706e+01\n",
      "   1.37671420e+03  5.92543803e+01  1.28917218e+00  1.19766610e+02\n",
      "   7.12795774e+00]\n",
      " [ 7.77518357e+00  4.81257969e+01  3.76500550e+02  6.39711120e+01\n",
      "   2.18620543e+02  3.35492547e+01 -1.68399288e-01  3.78874379e+01\n",
      "   2.41832652e-01]\n",
      " [-1.81496976e+00  1.21142706e+01  6.39711120e+01  2.45721748e+02\n",
      "   8.47700171e+02  4.78454049e+01  8.22180131e-01 -1.91007783e+01\n",
      "   4.95505681e-01]\n",
      " [-1.62017764e+01  1.37671420e+03  2.18620543e+02  8.47700171e+02\n",
      "   1.51496065e+04  1.87034995e+02  6.20455494e+00  4.34146331e+01\n",
      "   8.43723343e+00]\n",
      " [ 2.08686754e+00  5.92543803e+01  3.35492547e+01  4.78454049e+01\n",
      "   1.87034995e+02  6.79717825e+01  3.34248439e-01  5.71433848e+00\n",
      "   1.23713042e+00]\n",
      " [-9.69389640e-02  1.28917218e+00 -1.68399288e-01  8.22180131e-01\n",
      "   6.20455494e+00  3.34248439e-01  1.17827668e-01  1.48873368e-01\n",
      "   2.55973392e-02]\n",
      " [ 2.09516774e+01  1.19766610e+02  3.78874379e+01 -1.91007783e+01\n",
      "   4.34146331e+01  5.71433848e+00  1.48873368e-01  1.30205602e+02\n",
      "   1.30976564e+00]\n",
      " [ 4.06228604e-01  7.12795774e+00  2.41832652e-01  4.95505681e-01\n",
      "   8.43723343e+00  1.23713042e+00  2.55973392e-02  1.30976564e+00\n",
      "   2.35224653e-01]]\n"
     ]
    }
   ],
   "source": [
    "# compute the covariance matrix of the centered data\n",
    "# use np.dot() and np.transpose() functions and by averaging over the number of samples\n",
    "cov = (diabetesX.T @ diabetesX) / diabetesX.shape[0]\n",
    "print(cov)\n"
   ]
  },
  {
   "cell_type": "markdown",
   "id": "3c55b04f-6ee0-4729-85ab-b0d798114ce7",
   "metadata": {
    "deletable": false,
    "editable": false
   },
   "source": [
    "**Step4:** Compute the matrix varmat, whose $(i, j)$ entry is $\\sqrt{var(i)var(j)}$, where $var(k)$ is the variance of the $k$th column of the diabetesX matrix. The varinces can be extracted from the covariance matrix itself appropriately and varmat can be computed by appropriate matrix multiplication of a column matrix and a row matrix."
   ]
  },
  {
   "cell_type": "code",
   "execution_count": 8,
   "id": "aabd144a-f091-4b1d-bf06-03fc574f8492",
   "metadata": {},
   "outputs": [
    {
     "name": "stdout",
     "output_type": "stream",
     "text": [
      "[[1.18437950e+01 1.11209063e+02 6.67772065e+01 5.39469925e+01\n",
      "  4.23590407e+02 2.83732947e+01 1.18132415e+00 3.92699433e+01\n",
      "  1.66911730e+00]\n",
      " [1.11209063e+02 1.04421393e+03 6.27014449e+02 5.06543258e+02\n",
      "  3.97736472e+03 2.66415244e+02 1.10922177e+01 3.68730936e+02\n",
      "  1.56724235e+01]\n",
      " [6.67772065e+01 6.27014449e+02 3.76500550e+02 3.04161755e+02\n",
      "  2.38827033e+03 1.59973165e+02 6.66049411e+00 2.21410209e+02\n",
      "  9.41074977e+00]\n",
      " [5.39469925e+01 5.06543258e+02 3.04161755e+02 2.45721748e+02\n",
      "  1.92940089e+03 1.29236780e+02 5.38078253e+00 1.78869640e+02\n",
      "  7.60261882e+00]\n",
      " [4.23590407e+02 3.97736472e+03 2.38827033e+03 1.92940089e+03\n",
      "  1.51496065e+04 1.01476389e+03 4.22497669e+01 1.40447984e+03\n",
      "  5.96955687e+01]\n",
      " [2.83732947e+01 2.66415244e+02 1.59973165e+02 1.29236780e+02\n",
      "  1.01476389e+03 6.79717825e+01 2.83001001e+00 9.40760694e+01\n",
      "  3.99857962e+00]\n",
      " [1.18132415e+00 1.10922177e+01 6.66049411e+00 5.38078253e+00\n",
      "  4.22497669e+01 2.83001001e+00 1.17827668e-01 3.91686385e+00\n",
      "  1.66481147e-01]\n",
      " [3.92699433e+01 3.68730936e+02 2.21410209e+02 1.78869640e+02\n",
      "  1.40447984e+03 9.40760694e+01 3.91686385e+00 1.30205602e+02\n",
      "  5.53421788e+00]\n",
      " [1.66911730e+00 1.56724235e+01 9.41074977e+00 7.60261882e+00\n",
      "  5.96955687e+01 3.99857962e+00 1.66481147e-01 5.53421788e+00\n",
      "  2.35224653e-01]]\n"
     ]
    }
   ],
   "source": [
    "# compute the varmat matrix\n",
    "\n",
    "var = np.diag(cov)\n",
    "varmat = np.sqrt(np.outer(var, var))\n",
    "\n",
    "print(varmat)\n"
   ]
  },
  {
   "cell_type": "markdown",
   "id": "ab33ea08-3037-45b1-918f-d0c737fc3725",
   "metadata": {
    "deletable": false,
    "editable": false
   },
   "source": [
    "**Step5:** Use the cov matrix and varmat matrix appropriately to compute the correlational matrix corr. And then use seaborn (sns imported above) to plot an annotated heatmap of the correlation matrix."
   ]
  },
  {
   "cell_type": "code",
   "execution_count": 9,
   "id": "62fc14db-d7f2-45dc-8ceb-919903ece94e",
   "metadata": {},
   "outputs": [
    {
     "name": "stdout",
     "output_type": "stream",
     "text": [
      "[[ 1.          0.20960215  0.11643469 -0.03364358 -0.03824869  0.07355041\n",
      "  -0.08205958  0.53352961  0.2433793 ]\n",
      " [ 0.20960215  1.          0.07675389  0.02391557  0.34613728  0.22241363\n",
      "   0.11622312  0.3248076   0.4548089 ]\n",
      " [ 0.11643469  0.07675389  1.          0.21031938  0.09153928  0.20971802\n",
      "  -0.0252833   0.17111875  0.02569749]\n",
      " [-0.03364358  0.02391557  0.21031938  1.          0.43935927  0.37021508\n",
      "   0.15279936 -0.10678603  0.06517566]\n",
      " [-0.03824869  0.34613728  0.09153928  0.43935927  1.          0.18431381\n",
      "   0.14685418  0.03091154  0.14133768]\n",
      " [ 0.07355041  0.22241363  0.20971802  0.37021508  0.18431381  1.\n",
      "   0.11810857  0.06074168  0.30939247]\n",
      " [-0.08205958  0.11622312 -0.0252833   0.15279936  0.14685418  0.11810857\n",
      "   1.          0.03800831  0.15375518]\n",
      " [ 0.53352961  0.3248076   0.17111875 -0.10678603  0.03091154  0.06074168\n",
      "   0.03800831  1.          0.2366668 ]\n",
      " [ 0.2433793   0.4548089   0.02569749  0.06517566  0.14133768  0.30939247\n",
      "   0.15375518  0.2366668   1.        ]]\n"
     ]
    },
    {
     "data": {
      "text/plain": [
       "<Axes: >"
      ]
     },
     "execution_count": 9,
     "metadata": {},
     "output_type": "execute_result"
    },
    {
     "data": {
      "image/png": "[encoded data removed]",
      "text/plain": [
       "<Figure size 640x480 with 2 Axes>"
      ]
     },
     "metadata": {},
     "output_type": "display_data"
    }
   ],
   "source": [
    "#claculate the corelation matrix\n",
    "corr = cov / varmat\n",
    "print(corr)\n",
    "#Plot the heatmap\n",
    "sns.heatmap(corr, annot=True, fmt=\".2f\", cmap='coolwarm', xticklabels=['Pregnancies', 'Glucose', 'BloodPressure', 'SkinThickness', 'Insulin', 'BMI', 'DiabetesPedigreeFunction', 'Age', 'Outcome'], yticklabels=['Pregnancies', 'Glucose', 'BloodPressure', 'SkinThickness', 'Insulin', 'BMI', 'DiabetesPedigreeFunction', 'Age', 'Outcome'])\n"
   ]
  },
  {
   "cell_type": "markdown",
   "id": "76dabb96-e161-4c79-b8c5-c41d29fcb014",
   "metadata": {
    "deletable": false,
    "editable": false
   },
   "source": [
    "From the heatmap read the following correlations. Also, answer the question below."
   ]
  },
  {
   "cell_type": "code",
   "execution_count": 10,
   "id": "14101511-4957-4665-a712-4393e3c38355",
   "metadata": {},
   "outputs": [],
   "source": [
    "#Corr(BMI, Outcome)\n",
    "Corr1 = 0.31\n",
    "\n",
    "#Corr(Glucose, Outcome)\n",
    "Corr2 = 0.45\n",
    "\n",
    "#Corr(Pregnancies, Outcome)\n",
    "Corr3 = 0.24\n",
    "\n",
    "#Out of the 8 features, which two features are the most correlated. Fill in the list variable bestcorr\n",
    "bestcorr = ['Age', 'Pregnancies']"
   ]
  },
  {
   "cell_type": "markdown",
   "id": "716b1e02-f080-4392-9381-608124de444f",
   "metadata": {
    "deletable": false,
    "editable": false
   },
   "source": [
    "## Section 2\n",
    "\n",
    "In this section we will train a logistic regression model on the diabetes dataset to predict the risk of diabetes given patient data. We will then use it to perform predictions on previously unseen (test) data."
   ]
  },
  {
   "cell_type": "markdown",
   "id": "a13b5fdb-2e48-427f-afde-876a8c9b53a3",
   "metadata": {
    "deletable": false,
    "editable": false
   },
   "source": [
    "**Q4.** Preprocess Data.\n",
    " \n",
    "Implement a function normalizeData that normalizes each column of a data array. Recall that a column $x$ is normalized by $z = \\frac{x - mean(x)}{std(x)}$. The function should return the normalized data matrix and the mean and standard deviations of each column (we'll need these to normalize the test data later)."
   ]
  },
  {
   "cell_type": "code",
   "execution_count": 11,
   "id": "e1819fc2-886d-4430-9e4a-bb5d6ef2b8bd",
   "metadata": {},
   "outputs": [],
   "source": [
    "def normalizeData(X, mean = np.array([]), std = np.array([])):\n",
    "\n",
    "    # Implement such that if the mean and std are empty arrays then mean and std is calculated here, else use the mean and std passed in as parameters\n",
    "    mean = np.mean(X, axis=0) if mean.size == 0 else mean\n",
    "    std = np.std(X, axis=0) if std.size == 0 else std\n",
    "    \n",
    "    \n",
    "    normalized_X = (X - mean) / std\n",
    "\n",
    "    return normalized_X, mean, std"
   ]
  },
  {
   "cell_type": "markdown",
   "id": "f0477700-8a5b-468f-b926-0cc0ad8d2100",
   "metadata": {
    "deletable": false,
    "editable": false
   },
   "source": [
    "**Q5.** Sigmoid function and it's derivative.\n",
    "\n",
    "1. Implement the sigmoid function. Given a numpy array, compute the sigmoid values of the array. It should return an array of sigmoid values. If you see any overflow errors/warnings popping up, that is because the numbers coming out of the exponential function $e^{-t}$ in the sigmoid function are too large to handle. In that case, please clip the input between some large enough negative and positive value (look into numpy.clip).\n",
    "2. Implement the derivative of the sigmoid function. Recall that if, $p = \\sigma(t)$, then $p' = p(1-p)$. The function should take in an array of $p$ values and then return the array of $p'$. \n"
   ]
  },
  {
   "cell_type": "code",
   "execution_count": 12,
   "id": "c7e3bf14-35f5-4f55-b73a-5b44f172c009",
   "metadata": {},
   "outputs": [],
   "source": [
    "#Sigmoid function\n",
    "#t is a numpy array, claculte the sigmoid of each element of t\n",
    "\n",
    "def sigmoid(t):\n",
    "\n",
    "    #clip when the value is too large or too small of exp(-t)\n",
    "    t = np.clip(t, -500, 500)\n",
    "    sig = 1 / (1 + np.exp(-t))\n",
    "    \n",
    "    return sig"
   ]
  },
  {
   "cell_type": "code",
   "execution_count": 13,
   "id": "77204775-8069-4447-a569-b04245b9375f",
   "metadata": {},
   "outputs": [],
   "source": [
    "#Derivative of sigmoid function\n",
    "def derivSigmoid(p):\n",
    "\n",
    "    deriv_p = p * (1 - p)\n",
    "\n",
    "    return deriv_p"
   ]
  },
  {
   "cell_type": "markdown",
   "id": "db8406b3-543e-4ef5-8509-7dea6097593b",
   "metadata": {
    "deletable": false,
    "editable": false
   },
   "source": [
    "**Q6.** Compute sigmoid probabilities.\n",
    "\n",
    "Recall that $p = P(y = 1 | x) = \\sigma(x^T \\omega + b)$, where $\\omega = \\begin{bmatrix} \\omega_1 \\\\ \\omega_2 \\\\ \\vdots \\\\ \\omega_d \\end{bmatrix}$ are the weights and $b$ is the bias term. Implement a function sigProg to calculate those probabilities, given a matrix $X$ of data, weight vector $\\omega$ and bias $b$. It is possible to compute the array of probabilities for the entire dataset at once without a single for-loop, by just using matrix mutltiplications, which is the rightway to achieve maximum efficiency. You are supposed to use the above implemented sigmoid function. This should return an array of probabilities."
   ]
  },
  {
   "cell_type": "code",
   "execution_count": 14,
   "id": "c7184fb8-9f8d-4e4d-a8a5-64c28a529475",
   "metadata": {},
   "outputs": [],
   "source": [
    "def sigProg(X, w, b):\n",
    "\n",
    "    # calculte the liner transformation of X, w and b\n",
    "    z = np.dot(X, w) + b\n",
    "    # calculate the sigmoid of the linear transformation\n",
    "    p = sigmoid(z)\n",
    "    \n",
    "    return p"
   ]
  },
  {
   "cell_type": "markdown",
   "id": "20f4c65d-042a-46d7-a59d-e57554bafa4a",
   "metadata": {
    "deletable": false,
    "editable": false
   },
   "source": [
    "**Q7.** Compute loss gradient.\n",
    "\n",
    "Recall that the loss function for logistic regression is given by,\n",
    "\n",
    "$L(\\omega, b) = \\frac{1}{N} \\sum\\limits_{i = 1}^{N} (p_i - y_i)^2 + \\lambda reg(\\omega)$ where is the sigmoid probability $p_i = P(y_i = 1 | x_i)$ for the data point $(x_i, y_i)$ and $reg(\\omega)$ is the regularization term - it could be either ridge $reg(\\omega) = ||\\omega||_2^2$ or lasso $reg(\\omega) = ||\\omega||_1$ or no regularization at all. $\\lambda \\geq 0$ is the regularization constant. $N$ is the number of datapoints.\n",
    "\n",
    "Then, the gradient of the loss function with respect to $\\omega$ and the derivative with respect to $b$ is given by,\n",
    "\n",
    "$\\nabla_{\\omega}L = \\frac{1}{N} \\sum\\limits_{i = 1}^{N} (p_i - y_i) p'_i x_i \\ + \\ \\lambda reg'(\\omega)$\n",
    "\n",
    "$\\frac{\\partial L}{\\partial b} = \\frac{1}{N} \\sum\\limits_{i = 1}^{N} (p_i - y_i) p'_i$\n",
    "\n",
    "Here,\n",
    "\n",
    "$reg'(\\omega) = \\begin{cases} \\omega \\; &\\textrm{ if ridge } \\\\ sign(\\omega) \\; &\\textrm{ if lasso } \\end{cases}$\n",
    "\n",
    "Implement a function named gradient to compute the gradient and derivative of the loss function, given data matrix $X$, output vector $y$, weight vector $\\omega$ and bias $b$. The function should also be able to take in other parameters such as reg (= \"none\", \"ridge\" or \"lasso\") and lambda. It should return the gradient and derivative. All these computations can be done without a single for loop, only by using numpy builtins for matrix computations, which is the most desired way to achieve efficiency "
   ]
  },
  {
   "cell_type": "code",
   "execution_count": 15,
   "id": "0b6cc7e1-0f7c-408e-84de-442e53d19ca0",
   "metadata": {},
   "outputs": [],
   "source": [
    "def gradient(X, y, w, b, reg = \"none\", Lambda = 0.1):\n",
    "\n",
    "    # loss function with regularization\n",
    "    # reg = \"l1\" or \"l2\" or \"none\"\n",
    "    # Lambda is the regularization strength\n",
    "\n",
    "    # number of samples\n",
    "    N = X.shape[0]\n",
    "\n",
    "    # calculate the sigmoid of the linear transformation\n",
    "    p = sigProg(X, w, b)\n",
    "\n",
    "    # derivative of the sigmoid function\n",
    "    p_prime = derivSigmoid(p)\n",
    "\n",
    "    \n",
    "    # Compute the difference term\n",
    "    diff = (p - y) * p_prime # Shape (N,)\n",
    "\n",
    "    # Compute gradient w.r.t weights\n",
    "    grad_w = (1 / N) * np.dot(X.T, diff)  # Shape (d,)\n",
    "\n",
    "    # Compute gradient w.r.t bias\n",
    "    deriv_b = (1 / N) * np.sum(diff)  # Scalar\n",
    "\n",
    "    # Apply regularization\n",
    "    if reg == \"ridge\":  # Ridge regularization (L2)\n",
    "        reg_term = w  # ∇L2 = w\n",
    "    elif reg == \"lasso\":  # Lasso regularization (L1)\n",
    "        reg_term = np.sign(w)  # ∇L1 = sign(w)\n",
    "    else:  # No regularization\n",
    "        reg_term = np.zeros_like(w)\n",
    "\n",
    "    # Update weights with regularization\n",
    "    grad_w += Lambda * reg_term\n",
    "\n",
    "    \n",
    "\n",
    "    return grad_w, deriv_b"
   ]
  },
  {
   "cell_type": "markdown",
   "id": "b98327e0-e8ed-43b4-89a8-c1fb1767d274",
   "metadata": {
    "deletable": false,
    "editable": false
   },
   "source": [
    "**Q8.** Gradient descent algorithm.\n",
    "\n",
    "Recall the following update rule for gradient descent,\n",
    "\n",
    "$\\omega \\leftarrow \\omega - \\eta \\nabla_{\\omega} L$\n",
    "\n",
    "$b \\leftarrow b - \\eta \\frac{\\partial L}{\\partial b}$\n",
    "\n",
    "where $\\eta > 0$ is the learning rate.\n",
    "\n",
    "Implement the gradient descent algorithm in a function grad_descent given the gradient vector $\\nabla_{\\omega} L$ (grad_w), derivative $\\frac{\\partial L}{\\partial b}$ (deriv_b), weights $\\omega$ and bias $b$. Also should be able to accept the learning rate $\\eta$ (eta). The function should return the updated $\\omega$ and $b$."
   ]
  },
  {
   "cell_type": "code",
   "execution_count": 16,
   "id": "bea3ddb7-6adb-4a26-a720-bb7c442ef8b2",
   "metadata": {},
   "outputs": [],
   "source": [
    "def grad_descent(grad_w, deriv_b, w, b, eta = 0.01):\n",
    "\n",
    "    # update the weights and bias\n",
    "    w = w - eta * grad_w\n",
    "    b = b - eta * deriv_b\n",
    "\n",
    "    return w, b"
   ]
  },
  {
   "cell_type": "markdown",
   "id": "e1ce15b6-54fe-40ac-862a-8e5b4d06584d",
   "metadata": {
    "deletable": false,
    "editable": false
   },
   "source": [
    "**Q9.** Train model\n",
    "\n",
    "Implement the function train. It should initialize $\\omega$ and $b$ to some random values or zeros. Then interatively update the $\\omega$ and $b$ using gradient descent, untill the number of interations reach the maximum number of interations specified as max_iter. The function will take in training data $(X, y)$, regularization details (type of reg, and $\\lambda$), and learning rate $\\eta$ (eta). Finally, it should return the trained $\\omega$ and $b$."
   ]
  },
  {
   "cell_type": "code",
   "execution_count": 23,
   "id": "3830aba7-f4f4-4f91-8098-73b9599571b6",
   "metadata": {},
   "outputs": [],
   "source": [
    "def train(X, y, reg = 'none', Lambda = 0.1, eta = 0.01, max_iter = 1000):\n",
    "\n",
    "    #initialize the  w and b with zeros\n",
    "    #update the weights and bias using gradient descent\n",
    "    #use the gradient function to calculate the gradient\n",
    "\n",
    "    w = np.zeros(X.shape[1])\n",
    "    b = 0\n",
    "    loss_values = []   # Collect loss function values\n",
    "    w_norms = []       # Collect L2-norm of w values\n",
    "\n",
    "    for i in range(max_iter):\n",
    "        grad_w, deriv_b = gradient(X, y, w, b, reg, Lambda)\n",
    "        w, b = grad_descent(grad_w, deriv_b, w, b, eta)\n",
    "\n",
    "        # Compute loss and append to loss_values\n",
    "        # Compute ||w||2 norm and append to w_norms\n",
    "        loss = -np.mean(y * np.log(sigProg(X, w, b)) + (1 - y) * np.log(1 - sigProg(X, w, b)))\n",
    "        loss_values.append(loss)\n",
    "        w_norms.append(np.linalg.norm(w))\n",
    "        \n",
    "\n",
    "\n",
    "    return w, b, loss_values, w_norms"
   ]
  },
  {
   "cell_type": "markdown",
   "id": "2586151b-5edc-4fe1-b34f-b51f2f01b4d6",
   "metadata": {
    "deletable": false,
    "editable": false
   },
   "source": [
    "**Q10.** Predict using the model\n",
    "\n",
    "Implement a function predict to output predictions for given input data $X$, trained weights $\\omega$ and $b$. Make sure that the output should only consist of $1$'s and $0$'s. The function should return the predictions $\\hat{y}$ (yhat)."
   ]
  },
  {
   "cell_type": "code",
   "execution_count": 18,
   "id": "e5db246b-cd53-4593-bc5a-4c7edefa8624",
   "metadata": {},
   "outputs": [],
   "source": [
    "def predict(X, w, b):\n",
    "\n",
    "    #predict the output of the model\n",
    "    #use the sigmoid function to calculate the probability\n",
    "    yhat = sigProg(X, w, b)\n",
    "\n",
    "    #output normalization\n",
    "    yhat[yhat > 0.5] = 1\n",
    "    yhat[yhat <= 0.5] = 0               \n",
    "\n",
    "    return yhat\n",
    "\n",
    "    "
   ]
  },
  {
   "cell_type": "markdown",
   "id": "e5d4434d-102b-423c-a617-c208f5ae6654",
   "metadata": {
    "deletable": false,
    "editable": false
   },
   "source": [
    "**Q11.** Use the above logistic regression algorithm on the diabetes dataset. Train a model ($\\omega$, $b$). Then evaluate it. Use classification error to evaluate it.\n",
    "\n",
    "Start by separating the diabetesData into input (features) and output (Outcome), and store them in numpy matrices X_train and y_train respectively, and then normalizing the input features.\n",
    "\n",
    "Some tips to improve accuracy.\n",
    "\n",
    "1. Use cross validation to find the best hyperparameters $\\eta$, $\\lambda$, and regularization type.\n",
    "2. Plot the loss function versus iterations while training (you can do this by additionally collecting the loss values within the train function), having a smooth decreasing graph will indicate proper training.\n",
    "3. As above plot the $\\ell_2$-norm of the $\\omega$ vector versus iterations, we expect smooth decreasing curve for this as well.\n",
    "\n",
    "More tips and additional clarifications in class."
   ]
  },
  {
   "cell_type": "code",
   "execution_count": 27,
   "id": "9f677040-50b3-47ad-a5f8-9dc6b597dc40",
   "metadata": {},
   "outputs": [
    {
     "name": "stdout",
     "output_type": "stream",
     "text": [
      "Best Hyperparameters: eta=0.1, Lambda=0.01, reg=ridge\n"
     ]
    }
   ],
   "source": [
    "import matplotlib.pyplot as plt\n",
    "from sklearn.model_selection import KFold\n",
    "\n",
    "#separate training data set as input features and target labels\n",
    "X_train = diabetesData[['Pregnancies', 'Glucose', 'BloodPressure', 'SkinThickness', 'Insulin', 'BMI', 'DiabetesPedigreeFunction', 'Age']].values\n",
    "y_train = diabetesData['Outcome'].values\n",
    "\n",
    "#normalize the data\n",
    "X_train, mean, std = normalizeData(X_train)\n",
    "\n",
    "# print(X_train, y_train)\n",
    "\n",
    "# Define hyperparameter search space\n",
    "eta_values = np.array([0.001, 0.01, 0.1])  # Learning rates\n",
    "Lambda_values = np.array([0.01, 0.1, 1.0])  # Regularization strengths\n",
    "reg_types = np.array([\"none\", \"ridge\", \"lasso\"])  # Regularization types\n",
    "\n",
    "# setup cross validation\n",
    "kf = KFold(n_splits=5, shuffle=True, random_state=42)\n",
    "\n",
    "# Generate all combinations of hyperparameters\n",
    "hyperparams = np.array(np.meshgrid(eta_values, Lambda_values, reg_types)).T.reshape(-1, 3)\n",
    "\n",
    "# function to evaluate the hyperparameters\n",
    "\n",
    "def classification_error(y_true, y_pred):\n",
    "\n",
    "    # calculate the classification error\n",
    "    error = np.mean(y_true != y_pred)\n",
    "\n",
    "    return error\n",
    "\n",
    "\n",
    "#train the model\n",
    "#w, b = train(X_train, y_train, reg = 'none', Lambda = 0.1, eta = 0.01, max_iter = 1000)\n",
    "\n",
    "# use k fold cross validation for finding the best hyperparameters\n",
    "def evaluate_hyperparams(hyperparam_set):\n",
    "    eta, Lambda, reg = hyperparam_set\n",
    "    eta, Lambda = float(eta), float(Lambda)\n",
    "\n",
    "    train_errors = []\n",
    "\n",
    "    # Iterate over K-Fold splits\n",
    "    for train_idx, val_idx in kf.split(X_train):\n",
    "        X_train_fold, y_train_fold = X_train[train_idx], y_train[train_idx]\n",
    "        X_val_fold, y_val_fold = X_train[val_idx], y_train[val_idx]\n",
    "\n",
    "        # Train model and compute loss\n",
    "        w, b, _, _ = train(X_train_fold, y_train_fold, reg=reg, Lambda=Lambda, eta=eta, max_iter=1000)\n",
    "\n",
    "        # Vectorized predictions\n",
    "        y_val_pred = predict(X_val_fold, w, b)\n",
    "\n",
    "        # Compute classification error\n",
    "        train_errors.append(classification_error(y_val_fold, y_val_pred))\n",
    "\n",
    "    return np.mean(train_errors)  # Return mean error across folds\n",
    "\n",
    "# Compute validation errors\n",
    "validation_errors = np.array([evaluate_hyperparams(hp) for hp in hyperparams])\n",
    "\n",
    "# Find best hyperparameters\n",
    "best_idx = np.argmin(validation_errors)\n",
    "best_eta, best_Lambda, best_reg = hyperparams[best_idx]\n",
    "best_eta, best_Lambda = float(best_eta), float(best_Lambda)\n",
    "\n",
    "print(f\"Best Hyperparameters: eta={best_eta}, Lambda={best_Lambda}, reg={best_reg}\")\n",
    "\n",
    "# Train model with best hyperparameters\n",
    "w, b, loss_values, w_norms = train(X_train, y_train, reg=best_reg, Lambda=best_Lambda, eta=best_eta, max_iter=1000)\n",
    "\n",
    "\n"
   ]
  },
  {
   "cell_type": "code",
   "execution_count": 28,
   "id": "2a3e5db4",
   "metadata": {},
   "outputs": [
    {
     "data": {
      "image/png": "[encoded data removed]",
      "text/plain": [
       "<Figure size 1000x600 with 1 Axes>"
      ]
     },
     "metadata": {},
     "output_type": "display_data"
    },
    {
     "data": {
      "image/png": "[encoded data removed]",
      "text/plain": [
       "<Figure size 1000x600 with 1 Axes>"
      ]
     },
     "metadata": {},
     "output_type": "display_data"
    }
   ],
   "source": [
    "# Plot the loss function vs iteration\n",
    "plt.figure(figsize=(10, 6))\n",
    "plt.title(\"Loss Function vs. Iteration\")\n",
    "plt.plot(loss_values, label='Loss')\n",
    "plt.xlabel('Iteration')\n",
    "plt.ylabel('Loss')\n",
    "plt.legend()\n",
    "plt.grid()\n",
    "plt.show()\n",
    "\n",
    "# Plot the L2-norm of w vs iteration\n",
    "plt.figure(figsize=(10, 6))\n",
    "plt.title(\"L2-Norm of w vs. Iteration\")\n",
    "plt.plot(w_norms, label='||w||')\n",
    "plt.xlabel('Iteration')\n",
    "plt.ylabel('||w||')\n",
    "plt.legend()\n",
    "plt.grid()\n",
    "plt.show()\n"
   ]
  },
  {
   "cell_type": "markdown",
   "id": "523c2edf-e4f4-45ea-8efd-47eb11b1a8ca",
   "metadata": {
    "deletable": false,
    "editable": false
   },
   "source": [
    "**Q12.** Testing on previously unseen test data - final part.\n",
    "\n",
    "1. Load the DiabetesTest.csv file.\n",
    "2. Use your best trained model to predict the 'Outcome' for this test data, assign your predictions to y_test_pred, this should be an array of $0$'s and $1$'s.\n",
    "3. This will be graded on the level of accuracy of your predictions.\n",
    "4. Remember to properly normalize your data before using them in the model. For normalization use the mean and standard deviation of the training data not the test data.\n"
   ]
  },
  {
   "cell_type": "code",
   "execution_count": 32,
   "id": "75e6055e-00ce-48eb-bf80-fb1a391f9a94",
   "metadata": {},
   "outputs": [
    {
     "data": {
      "text/html": [
       "<div>\n",
       "<style scoped>\n",
       "    .dataframe tbody tr th:only-of-type {\n",
       "        vertical-align: middle;\n",
       "    }\n",
       "\n",
       "    .dataframe tbody tr th {\n",
       "        vertical-align: top;\n",
       "    }\n",
       "\n",
       "    .dataframe thead th {\n",
       "        text-align: right;\n",
       "    }\n",
       "</style>\n",
       "<table border=\"1\" class=\"dataframe\">\n",
       "  <thead>\n",
       "    <tr style=\"text-align: right;\">\n",
       "      <th></th>\n",
       "      <th>Pregnancies</th>\n",
       "      <th>Glucose</th>\n",
       "      <th>BloodPressure</th>\n",
       "      <th>SkinThickness</th>\n",
       "      <th>Insulin</th>\n",
       "      <th>BMI</th>\n",
       "      <th>DiabetesPedigreeFunction</th>\n",
       "      <th>Age</th>\n",
       "    </tr>\n",
       "  </thead>\n",
       "  <tbody>\n",
       "    <tr>\n",
       "      <th>0</th>\n",
       "      <td>1</td>\n",
       "      <td>89</td>\n",
       "      <td>66</td>\n",
       "      <td>23</td>\n",
       "      <td>94</td>\n",
       "      <td>28.1</td>\n",
       "      <td>0.167</td>\n",
       "      <td>21</td>\n",
       "    </tr>\n",
       "    <tr>\n",
       "      <th>1</th>\n",
       "      <td>3</td>\n",
       "      <td>78</td>\n",
       "      <td>50</td>\n",
       "      <td>32</td>\n",
       "      <td>88</td>\n",
       "      <td>31.0</td>\n",
       "      <td>0.248</td>\n",
       "      <td>26</td>\n",
       "    </tr>\n",
       "    <tr>\n",
       "      <th>2</th>\n",
       "      <td>7</td>\n",
       "      <td>147</td>\n",
       "      <td>76</td>\n",
       "      <td>0</td>\n",
       "      <td>0</td>\n",
       "      <td>39.4</td>\n",
       "      <td>0.257</td>\n",
       "      <td>43</td>\n",
       "    </tr>\n",
       "    <tr>\n",
       "      <th>3</th>\n",
       "      <td>1</td>\n",
       "      <td>97</td>\n",
       "      <td>66</td>\n",
       "      <td>15</td>\n",
       "      <td>140</td>\n",
       "      <td>23.2</td>\n",
       "      <td>0.487</td>\n",
       "      <td>22</td>\n",
       "    </tr>\n",
       "    <tr>\n",
       "      <th>4</th>\n",
       "      <td>4</td>\n",
       "      <td>111</td>\n",
       "      <td>72</td>\n",
       "      <td>47</td>\n",
       "      <td>207</td>\n",
       "      <td>37.1</td>\n",
       "      <td>1.390</td>\n",
       "      <td>56</td>\n",
       "    </tr>\n",
       "  </tbody>\n",
       "</table>\n",
       "</div>"
      ],
      "text/plain": [
       "   Pregnancies  Glucose  BloodPressure  SkinThickness  Insulin   BMI  \\\n",
       "0            1       89             66             23       94  28.1   \n",
       "1            3       78             50             32       88  31.0   \n",
       "2            7      147             76              0        0  39.4   \n",
       "3            1       97             66             15      140  23.2   \n",
       "4            4      111             72             47      207  37.1   \n",
       "\n",
       "   DiabetesPedigreeFunction  Age  \n",
       "0                     0.167   21  \n",
       "1                     0.248   26  \n",
       "2                     0.257   43  \n",
       "3                     0.487   22  \n",
       "4                     1.390   56  "
      ]
     },
     "execution_count": 32,
     "metadata": {},
     "output_type": "execute_result"
    }
   ],
   "source": [
    "#testing the model on unseen data (DiabetesTest.csv)\n",
    "diabetesTest = pd.read_csv('DiabetesTest.csv')\n",
    "\n",
    "diabetesTest.head()\n"
   ]
  },
  {
   "cell_type": "code",
   "execution_count": 33,
   "id": "6a97a2f8",
   "metadata": {},
   "outputs": [
    {
     "name": "stdout",
     "output_type": "stream",
     "text": [
      "best eta:  0.1\n",
      "best Lambda:  0.01\n",
      "best reg:  ridge\n",
      "w:  [ 0.27208321  0.70754267 -0.1050738  -0.03051267  0.04262126  0.45506755\n",
      "  0.25690788  0.0679097 ]\n",
      "b:  -0.5497074432970875\n",
      "[0. 0. 1. 0. 1. 0. 0. 1. 0. 0. 0. 0. 0. 0. 0. 0. 0. 0. 0. 1. 0. 0. 0. 0.\n",
      " 0. 1. 0. 0. 0. 1. 0. 0. 0. 0. 0. 1. 0. 0. 0. 0. 0. 0. 0. 1. 1. 0. 1. 1.\n",
      " 1. 0. 0. 0. 1. 0. 1. 0. 1. 0. 0. 0. 0. 0. 0. 0. 0. 0. 1. 1. 0. 0. 0. 1.\n",
      " 0. 0. 0. 0. 0. 1. 1. 0. 0. 0. 1. 1. 0. 0. 0. 0. 0. 0. 0. 0. 0. 0. 0. 0.\n",
      " 1. 1. 0. 1.]\n"
     ]
    }
   ],
   "source": [
    "#test the model on unseen data\n",
    "X_test = diabetesTest[['Pregnancies', 'Glucose', 'BloodPressure', 'SkinThickness', 'Insulin', 'BMI', 'DiabetesPedigreeFunction', 'Age']].values\n",
    "print(\"best eta: \", best_eta)\n",
    "print(\"best Lambda: \", best_Lambda)\n",
    "print(\"best reg: \", best_reg)\n",
    "print(\"w: \", w)\n",
    "print(\"b: \", b)\n",
    "\n",
    "y_test_pred = predict(normalizeData(X_test, mean, std)[0], w, b)\n",
    "\n",
    "print(y_test_pred)"
   ]
  }
 ],
 "metadata": {
  "kernelspec": {
   "display_name": "Python 3",
   "language": "python",
   "name": "python3"
  },
  "language_info": {
   "codemirror_mode": {
    "name": "ipython",
    "version": 3
   },
   "file_extension": ".py",
   "mimetype": "text/x-python",
   "name": "python",
   "nbconvert_exporter": "python",
   "pygments_lexer": "ipython3",
   "version": "3.11.4"
  }
 },
 "nbformat": 4,
 "nbformat_minor": 5
}
